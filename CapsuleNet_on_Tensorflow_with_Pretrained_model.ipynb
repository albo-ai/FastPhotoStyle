{
  "nbformat": 4,
  "nbformat_minor": 0,
  "metadata": {
    "colab": {
      "name": "CapsuleNet on Tensorflow with Pretrained model.ipynb",
      "version": "0.3.2",
      "provenance": [],
      "toc_visible": true,
      "include_colab_link": true
    }
  },
  "cells": [
    {
      "cell_type": "markdown",
      "metadata": {
        "id": "view-in-github",
        "colab_type": "text"
      },
      "source": [
        "<a href=\"https://colab.research.google.com/github/albo-ai/FastPhotoStyle/blob/master/CapsuleNet_on_Tensorflow_with_Pretrained_model.ipynb\" target=\"_parent\"><img src=\"https://colab.research.google.com/assets/colab-badge.svg\" alt=\"Open In Colab\"/></a>"
      ]
    },
    {
      "metadata": {
        "id": "dMGhgrNJcwW0",
        "colab_type": "text"
      },
      "cell_type": "markdown",
      "source": [
        "# [CapsuleNet](https://arxiv.org/pdf/1710.09829v1.pdf)\n",
        "**Problems with Traditional CNNs**\n",
        "![alt text](https://cdn-images-1.medium.com/max/800/1*h-Be4Uj-a7N6_Qx-K03KkQ.png)\n",
        "![alt text](https://cdn-images-1.medium.com/max/800/1*RS9iLmj0r9i9zUeBVzo8Kg.png)\n",
        "\n",
        "Source: https://hackernoon.com/capsule-networks-are-shaking-up-ai-heres-how-to-use-them-c233a0971952\n"
      ]
    },
    {
      "metadata": {
        "id": "I8q7VKHrRrTt",
        "colab_type": "code",
        "colab": {}
      },
      "cell_type": "code",
      "source": [
        ""
      ],
      "execution_count": 0,
      "outputs": []
    },
    {
      "metadata": {
        "id": "4DFfBt-g6uH1",
        "colab_type": "text"
      },
      "cell_type": "markdown",
      "source": [
        "# New Section"
      ]
    },
    {
      "metadata": {
        "id": "MsC0sdKXcvAC",
        "colab_type": "code",
        "outputId": "46940ffc-e678-47ee-d8c4-5613c3104f70",
        "colab": {
          "base_uri": "https://localhost:8080/",
          "height": 34
        }
      },
      "cell_type": "code",
      "source": [
        "!git clone https://github.com/bourdakos1/capsule-networks.git\n",
        "!pip install -r capsule-networks/requirements.txt\n",
        "!touch capsule-networks/__init__.py\n",
        "!mv capsule-networks capsule\n",
        "!mv capsule/data/ ./data/\n",
        "! ls\n"
      ],
      "execution_count": 0,
      "outputs": [
        {
          "output_type": "stream",
          "text": [
            "capsule  data  datalab\r\n"
          ],
          "name": "stdout"
        }
      ]
    },
    {
      "metadata": {
        "id": "ORmGPVv5tKu8",
        "colab_type": "text"
      },
      "cell_type": "markdown",
      "source": [
        "The MNIST data set is 60,000 training images. By default the model will be trained for 50 epochs at a batch size of 128."
      ]
    },
    {
      "metadata": {
        "id": "LgBo4ZlDeG0j",
        "colab_type": "code",
        "outputId": "ff2df0eb-1f1b-483a-f7f7-6a80840b505b",
        "colab": {
          "base_uri": "https://localhost:8080/",
          "height": 368
        }
      },
      "cell_type": "code",
      "source": [
        "import os\n",
        "import tensorflow as tf\n",
        "from tqdm import tqdm\n",
        "\n",
        "from capsule.config import cfg\n",
        "from capsule.utils import load_mnist\n",
        "from capsule.capsNet import CapsNet"
      ],
      "execution_count": 0,
      "outputs": [
        {
          "output_type": "error",
          "ename": "ImportError",
          "evalue": "ignored",
          "traceback": [
            "\u001b[0;31m\u001b[0m",
            "\u001b[0;31mImportError\u001b[0mTraceback (most recent call last)",
            "\u001b[0;32m<ipython-input-1-9521b798e199>\u001b[0m in \u001b[0;36m<module>\u001b[0;34m()\u001b[0m\n\u001b[1;32m      1\u001b[0m \u001b[0;32mimport\u001b[0m \u001b[0mos\u001b[0m\u001b[0;34m\u001b[0m\u001b[0m\n\u001b[1;32m      2\u001b[0m \u001b[0;32mimport\u001b[0m \u001b[0mtensorflow\u001b[0m \u001b[0;32mas\u001b[0m \u001b[0mtf\u001b[0m\u001b[0;34m\u001b[0m\u001b[0m\n\u001b[0;32m----> 3\u001b[0;31m \u001b[0;32mfrom\u001b[0m \u001b[0mtqdm\u001b[0m \u001b[0;32mimport\u001b[0m \u001b[0mtqdm\u001b[0m\u001b[0;34m\u001b[0m\u001b[0m\n\u001b[0m\u001b[1;32m      4\u001b[0m \u001b[0;34m\u001b[0m\u001b[0m\n\u001b[1;32m      5\u001b[0m \u001b[0;32mfrom\u001b[0m \u001b[0mcapsule\u001b[0m\u001b[0;34m.\u001b[0m\u001b[0mconfig\u001b[0m \u001b[0;32mimport\u001b[0m \u001b[0mcfg\u001b[0m\u001b[0;34m\u001b[0m\u001b[0m\n",
            "\u001b[0;31mImportError\u001b[0m: No module named tqdm",
            "",
            "\u001b[0;31m---------------------------------------------------------------------------\u001b[0;32m\nNOTE: If your import is failing due to a missing package, you can\nmanually install dependencies using either !pip or !apt.\n\nTo view examples of installing some common dependencies, click the\n\"Open Examples\" button below.\n\u001b[0;31m---------------------------------------------------------------------------\u001b[0m\n"
          ]
        }
      ]
    },
    {
      "metadata": {
        "id": "w_oN0b_suLVv",
        "colab_type": "code",
        "outputId": "940e0867-5ab5-4144-f840-3bf75bd8b01b",
        "colab": {
          "base_uri": "https://localhost:8080/",
          "height": 34
        }
      },
      "cell_type": "code",
      "source": [
        "import tensorflow as tf\n",
        "tf.test.gpu_device_name()"
      ],
      "execution_count": 0,
      "outputs": [
        {
          "output_type": "execute_result",
          "data": {
            "text/plain": [
              "''"
            ]
          },
          "metadata": {
            "tags": []
          },
          "execution_count": 2
        }
      ]
    },
    {
      "metadata": {
        "id": "VW7HoEVkfxaA",
        "colab_type": "code",
        "outputId": "f18c565e-b49f-4d3c-82af-1613de22f196",
        "colab": {
          "base_uri": "https://localhost:8080/",
          "height": 34
        }
      },
      "cell_type": "code",
      "source": [
        "capsNet = CapsNet(is_training=cfg.is_training)"
      ],
      "execution_count": 0,
      "outputs": [
        {
          "output_type": "stream",
          "text": [
            "INFO:tensorflow:Seting up the main structure\n"
          ],
          "name": "stdout"
        }
      ]
    },
    {
      "metadata": {
        "id": "SaN4SEjF5D9o",
        "colab_type": "text"
      },
      "cell_type": "markdown",
      "source": [
        "## CapsuleNet Architecture on the TensorBoard"
      ]
    },
    {
      "metadata": {
        "id": "YMOK3g4bRmpA",
        "colab_type": "text"
      },
      "cell_type": "markdown",
      "source": [
        "# New Section"
      ]
    },
    {
      "metadata": {
        "id": "jNHYx52Qto38",
        "colab_type": "text"
      },
      "cell_type": "markdown",
      "source": [
        "![CapsuleNet Architecture](http://gdurl.com/UtML)\n"
      ]
    },
    {
      "metadata": {
        "id": "76KQtOv2h8rL",
        "colab_type": "code",
        "outputId": "f110bbd0-dc53-4070-a2ff-c590b3186be7",
        "colab": {
          "base_uri": "https://localhost:8080/",
          "height": 34
        }
      },
      "cell_type": "code",
      "source": [
        "tf.logging.info('Graph loaded')\n",
        "sv = tf.train.Supervisor(graph=capsNet.graph,\n",
        "                             logdir=cfg.logdir,\n",
        "                             save_model_secs=0)\n",
        "\n",
        "path = cfg.results + '/accuracy.csv'\n",
        "if not os.path.exists(cfg.results):\n",
        "    os.mkdir(cfg.results)\n",
        "elif os.path.exists(path):\n",
        "    os.remove(path)\n",
        "\n",
        "fd_results = open(path, 'w')\n",
        "fd_results.write('step,test_acc\\n')"
      ],
      "execution_count": 0,
      "outputs": [
        {
          "output_type": "stream",
          "text": [
            "INFO:tensorflow:Graph loaded\n"
          ],
          "name": "stdout"
        }
      ]
    },
    {
      "metadata": {
        "id": "czUwTIuaiRYl",
        "colab_type": "code",
        "outputId": "b4b70c3a-2d7c-41e2-9750-5b72dc50403b",
        "colab": {
          "base_uri": "https://localhost:8080/",
          "height": 1666
        }
      },
      "cell_type": "code",
      "source": [
        "with sv.managed_session() as sess:\n",
        "    num_batch = int(60000 / cfg.batch_size)\n",
        "    num_test_batch = 10000 // cfg.batch_size\n",
        "    teX, teY = load_mnist(cfg.dataset, False)\n",
        "    for epoch in range(cfg.epoch):\n",
        "        if sv.should_stop():\n",
        "            break\n",
        "        for step in tqdm(range(num_batch), total=num_batch, ncols=70, leave=False, unit='b'):\n",
        "            global_step = sess.run(capsNet.global_step)\n",
        "            sess.run(capsNet.train_op)\n",
        "\n",
        "            if step % cfg.train_sum_freq == 0:\n",
        "                _, summary_str = sess.run([capsNet.train_op, capsNet.train_summary])\n",
        "                sv.summary_writer.add_summary(summary_str, global_step)\n",
        "\n",
        "            if (global_step + 1) % cfg.test_sum_freq == 0:\n",
        "                test_acc = 0\n",
        "                for i in range(num_test_batch):\n",
        "                    start = i * cfg.batch_size\n",
        "                    end = start + cfg.batch_size\n",
        "                    test_acc += sess.run(capsNet.batch_accuracy, {capsNet.X: teX[start:end], capsNet.labels: teY[start:end]})\n",
        "                test_acc = test_acc / (cfg.batch_size * num_test_batch)\n",
        "                fd_results.write(str(global_step + 1) + ',' + str(test_acc) + '\\n')\n",
        "                fd_results.flush()\n",
        "\n",
        "        if epoch % cfg.save_freq == 0:\n",
        "            sv.saver.save(sess, cfg.logdir + '/model_epoch_%04d_step_%02d' % (epoch, global_step))\n",
        "fd_results.close()\n",
        "tf.logging.info('Training done')\n"
      ],
      "execution_count": 0,
      "outputs": [
        {
          "output_type": "stream",
          "text": [
            "INFO:tensorflow:Starting standard services.\n",
            "INFO:tensorflow:Starting queue runners.\n"
          ],
          "name": "stdout"
        },
        {
          "output_type": "stream",
          "text": [
            "\r  0%|                                          | 0/468 [00:00<?, ?b/s]"
          ],
          "name": "stderr"
        },
        {
          "output_type": "stream",
          "text": [
            "INFO:tensorflow:global_step/sec: 0\n",
            "INFO:tensorflow:Recording summary at step 0.\n"
          ],
          "name": "stdout"
        },
        {
          "output_type": "stream",
          "text": [
            "  0%|▏                               | 2/468 [01:50<7:07:41, 55.07s/b]"
          ],
          "name": "stderr"
        },
        {
          "output_type": "stream",
          "text": [
            "INFO:tensorflow:Recording summary at step 3.\n",
            "INFO:tensorflow:global_step/sec: 0.0206392\n"
          ],
          "name": "stdout"
        },
        {
          "output_type": "stream",
          "text": [
            "  1%|▎                               | 5/468 [03:37<5:36:05, 43.55s/b]"
          ],
          "name": "stderr"
        },
        {
          "output_type": "stream",
          "text": [
            "INFO:tensorflow:Recording summary at step 6.\n",
            "INFO:tensorflow:global_step/sec: 0.0270277\n"
          ],
          "name": "stdout"
        },
        {
          "output_type": "stream",
          "text": [
            "  2%|▌                               | 9/468 [05:55<5:02:15, 39.51s/b]"
          ],
          "name": "stderr"
        },
        {
          "output_type": "stream",
          "text": [
            "INFO:tensorflow:Recording summary at step 10.\n",
            "INFO:tensorflow:global_step/sec: 0.0306969\n"
          ],
          "name": "stdout"
        },
        {
          "output_type": "stream",
          "text": [
            "  3%|▊                              | 12/468 [07:42<4:52:56, 38.54s/b]"
          ],
          "name": "stderr"
        },
        {
          "output_type": "stream",
          "text": [
            "INFO:tensorflow:global_step/sec: 0.0327773\n",
            "INFO:tensorflow:Recording summary at step 13.\n"
          ],
          "name": "stdout"
        },
        {
          "output_type": "stream",
          "text": [
            "  3%|▉                              | 15/468 [09:29<4:46:33, 37.95s/b]"
          ],
          "name": "stderr"
        },
        {
          "output_type": "stream",
          "text": [
            "INFO:tensorflow:global_step/sec: 0.0249671\n"
          ],
          "name": "stdout"
        },
        {
          "output_type": "stream",
          "text": [
            "\r  3%|█                              | 16/468 [10:02<4:43:29, 37.63s/b]"
          ],
          "name": "stderr"
        },
        {
          "output_type": "stream",
          "text": [
            "INFO:tensorflow:Recording summary at step 17.\n"
          ],
          "name": "stdout"
        },
        {
          "output_type": "stream",
          "text": [
            "  4%|█▎                             | 19/468 [11:47<4:38:36, 37.23s/b]"
          ],
          "name": "stderr"
        },
        {
          "output_type": "stream",
          "text": [
            "INFO:tensorflow:Recording summary at step 20.\n",
            "INFO:tensorflow:global_step/sec: 0.0275703\n"
          ],
          "name": "stdout"
        },
        {
          "output_type": "stream",
          "text": [
            "  5%|█▌                             | 23/468 [14:06<4:33:04, 36.82s/b]"
          ],
          "name": "stderr"
        },
        {
          "output_type": "stream",
          "text": [
            "INFO:tensorflow:global_step/sec: 0.0388864\n",
            "INFO:tensorflow:Recording summary at step 24.\n"
          ],
          "name": "stdout"
        },
        {
          "output_type": "stream",
          "text": [
            "  6%|█▋                             | 26/468 [15:52<4:29:49, 36.63s/b]"
          ],
          "name": "stderr"
        },
        {
          "output_type": "stream",
          "text": [
            "INFO:tensorflow:global_step/sec: 0.0220884\n",
            "INFO:tensorflow:Recording summary at step 27.\n"
          ],
          "name": "stdout"
        },
        {
          "output_type": "stream",
          "text": [
            "  6%|█▉                             | 29/468 [17:39<4:27:16, 36.53s/b]"
          ],
          "name": "stderr"
        },
        {
          "output_type": "stream",
          "text": [
            "INFO:tensorflow:Recording summary at step 30.\n",
            "INFO:tensorflow:global_step/sec: 0.0260289\n"
          ],
          "name": "stdout"
        },
        {
          "output_type": "stream",
          "text": [
            "  7%|██▏                            | 33/468 [19:57<4:23:02, 36.28s/b]"
          ],
          "name": "stderr"
        },
        {
          "output_type": "stream",
          "text": [
            "INFO:tensorflow:Recording summary at step 34.\n"
          ],
          "name": "stdout"
        },
        {
          "output_type": "stream",
          "text": [
            "  8%|██▍                            | 36/468 [21:44<4:20:49, 36.23s/b]"
          ],
          "name": "stderr"
        },
        {
          "output_type": "stream",
          "text": [
            "INFO:tensorflow:Recording summary at step 37.\n"
          ],
          "name": "stdout"
        },
        {
          "output_type": "stream",
          "text": [
            "  9%|██▋                            | 40/468 [24:03<4:17:23, 36.08s/b]"
          ],
          "name": "stderr"
        },
        {
          "output_type": "stream",
          "text": [
            "INFO:tensorflow:Recording summary at step 41.\n"
          ],
          "name": "stdout"
        },
        {
          "output_type": "stream",
          "text": [
            "  9%|██▊                            | 43/468 [25:48<4:15:06, 36.02s/b]"
          ],
          "name": "stderr"
        },
        {
          "output_type": "stream",
          "text": [
            "INFO:tensorflow:Recording summary at step 44.\n"
          ],
          "name": "stdout"
        },
        {
          "output_type": "stream",
          "text": [
            " 10%|███                            | 46/468 [27:35<4:13:07, 35.99s/b]"
          ],
          "name": "stderr"
        },
        {
          "output_type": "stream",
          "text": [
            "INFO:tensorflow:Recording summary at step 47.\n"
          ],
          "name": "stdout"
        },
        {
          "output_type": "stream",
          "text": [
            " 11%|███▎                           | 50/468 [29:53<4:09:53, 35.87s/b]"
          ],
          "name": "stderr"
        },
        {
          "output_type": "stream",
          "text": [
            "INFO:tensorflow:Recording summary at step 51.\n"
          ],
          "name": "stdout"
        },
        {
          "output_type": "stream",
          "text": [
            " 11%|███▍                           | 52/468 [31:40<4:13:24, 36.55s/b]"
          ],
          "name": "stderr"
        },
        {
          "output_type": "stream",
          "text": [
            "INFO:tensorflow:Recording summary at step 54.\n"
          ],
          "name": "stdout"
        },
        {
          "output_type": "stream",
          "text": [
            " 12%|███▋                           | 56/468 [33:58<4:09:55, 36.40s/b]"
          ],
          "name": "stderr"
        },
        {
          "output_type": "stream",
          "text": [
            "INFO:tensorflow:Recording summary at step 58.\n"
          ],
          "name": "stdout"
        },
        {
          "output_type": "stream",
          "text": [
            " 13%|███▉                           | 59/468 [35:45<4:07:51, 36.36s/b]"
          ],
          "name": "stderr"
        },
        {
          "output_type": "stream",
          "text": [
            "INFO:tensorflow:Recording summary at step 61.\n"
          ],
          "name": "stdout"
        },
        {
          "output_type": "stream",
          "text": [
            " 13%|████▏                          | 63/468 [38:04<4:04:43, 36.26s/b]"
          ],
          "name": "stderr"
        },
        {
          "output_type": "stream",
          "text": [
            "INFO:tensorflow:Recording summary at step 65.\n"
          ],
          "name": "stdout"
        },
        {
          "output_type": "stream",
          "text": [
            " 14%|████▎                          | 66/468 [39:49<4:02:34, 36.21s/b]"
          ],
          "name": "stderr"
        },
        {
          "output_type": "stream",
          "text": [
            "INFO:tensorflow:Recording summary at step 68.\n"
          ],
          "name": "stdout"
        },
        {
          "output_type": "stream",
          "text": [
            " 15%|████▌                          | 69/468 [41:36<4:00:34, 36.18s/b]"
          ],
          "name": "stderr"
        },
        {
          "output_type": "stream",
          "text": [
            "INFO:tensorflow:Recording summary at step 71.\n"
          ],
          "name": "stdout"
        },
        {
          "output_type": "stream",
          "text": [
            " 16%|████▊                          | 73/468 [43:54<3:57:32, 36.08s/b]"
          ],
          "name": "stderr"
        },
        {
          "output_type": "stream",
          "text": [
            "INFO:tensorflow:Recording summary at step 75.\n"
          ],
          "name": "stdout"
        },
        {
          "output_type": "stream",
          "text": [
            " 16%|█████                          | 76/468 [45:41<3:55:38, 36.07s/b]"
          ],
          "name": "stderr"
        },
        {
          "output_type": "stream",
          "text": [
            "INFO:tensorflow:Recording summary at step 78.\n"
          ],
          "name": "stdout"
        },
        {
          "output_type": "stream",
          "text": [
            " 17%|█████▎                         | 80/468 [47:59<3:52:46, 36.00s/b]"
          ],
          "name": "stderr"
        },
        {
          "output_type": "stream",
          "text": [
            "INFO:tensorflow:Recording summary at step 82.\n"
          ],
          "name": "stdout"
        },
        {
          "output_type": "stream",
          "text": [
            " 18%|█████▍                         | 83/468 [49:46<3:50:51, 35.98s/b]"
          ],
          "name": "stderr"
        },
        {
          "output_type": "stream",
          "text": [
            "INFO:tensorflow:Recording summary at step 85.\n"
          ],
          "name": "stdout"
        },
        {
          "output_type": "stream",
          "text": [
            " 19%|█████▊                         | 87/468 [52:05<3:48:07, 35.92s/b]"
          ],
          "name": "stderr"
        },
        {
          "output_type": "stream",
          "text": [
            "INFO:tensorflow:Recording summary at step 89.\n"
          ],
          "name": "stdout"
        },
        {
          "output_type": "stream",
          "text": [
            " 19%|█████▉                         | 90/468 [53:50<3:46:08, 35.90s/b]"
          ],
          "name": "stderr"
        },
        {
          "output_type": "stream",
          "text": [
            "INFO:tensorflow:Recording summary at step 92.\n"
          ],
          "name": "stdout"
        },
        {
          "output_type": "stream",
          "text": [
            " 20%|██████▏                        | 93/468 [55:37<3:44:17, 35.89s/b]"
          ],
          "name": "stderr"
        },
        {
          "output_type": "stream",
          "text": [
            "INFO:tensorflow:Recording summary at step 95.\n"
          ],
          "name": "stdout"
        },
        {
          "output_type": "stream",
          "text": [
            " 21%|██████▍                        | 97/468 [57:55<3:41:31, 35.83s/b]"
          ],
          "name": "stderr"
        },
        {
          "output_type": "stream",
          "text": [
            "INFO:tensorflow:Recording summary at step 99.\n"
          ],
          "name": "stdout"
        },
        {
          "output_type": "stream",
          "text": [
            " 21%|██████▍                       | 100/468 [59:42<3:39:41, 35.82s/b]"
          ],
          "name": "stderr"
        },
        {
          "output_type": "stream",
          "text": [
            "INFO:tensorflow:Recording summary at step 102.\n"
          ],
          "name": "stdout"
        },
        {
          "output_type": "stream",
          "text": [
            " 22%|██████▏                     | 103/468 [1:02:01<3:39:48, 36.13s/b]"
          ],
          "name": "stderr"
        },
        {
          "output_type": "stream",
          "text": [
            "INFO:tensorflow:Recording summary at step 106.\n"
          ],
          "name": "stdout"
        },
        {
          "output_type": "stream",
          "text": [
            " 23%|██████▎                     | 106/468 [1:03:46<3:37:49, 36.10s/b]"
          ],
          "name": "stderr"
        },
        {
          "output_type": "stream",
          "text": [
            "INFO:tensorflow:Recording summary at step 109.\n"
          ],
          "name": "stdout"
        },
        {
          "output_type": "stream",
          "text": [
            " 24%|██████▌                     | 110/468 [1:06:05<3:35:07, 36.05s/b]"
          ],
          "name": "stderr"
        },
        {
          "output_type": "stream",
          "text": [
            "INFO:tensorflow:Recording summary at step 113.\n"
          ],
          "name": "stdout"
        },
        {
          "output_type": "stream",
          "text": [
            " 24%|██████▊                     | 113/468 [1:07:51<3:33:10, 36.03s/b]"
          ],
          "name": "stderr"
        },
        {
          "output_type": "stream",
          "text": [
            "INFO:tensorflow:Recording summary at step 116.\n"
          ],
          "name": "stdout"
        },
        {
          "output_type": "stream",
          "text": [
            " 25%|██████▉                     | 116/468 [1:09:38<3:31:18, 36.02s/b]"
          ],
          "name": "stderr"
        },
        {
          "output_type": "stream",
          "text": [
            "INFO:tensorflow:Recording summary at step 119.\n"
          ],
          "name": "stdout"
        },
        {
          "output_type": "stream",
          "text": [
            " 26%|███████▏                    | 120/468 [1:11:55<3:28:35, 35.96s/b]"
          ],
          "name": "stderr"
        },
        {
          "output_type": "stream",
          "text": [
            "INFO:tensorflow:Recording summary at step 123.\n"
          ],
          "name": "stdout"
        },
        {
          "output_type": "stream",
          "text": [
            " 26%|███████▎                    | 123/468 [1:13:42<3:26:44, 35.95s/b]"
          ],
          "name": "stderr"
        },
        {
          "output_type": "stream",
          "text": [
            "INFO:tensorflow:Recording summary at step 126.\n"
          ],
          "name": "stdout"
        },
        {
          "output_type": "stream",
          "text": [
            " 27%|███████▌                    | 127/468 [1:16:01<3:24:08, 35.92s/b]"
          ],
          "name": "stderr"
        },
        {
          "output_type": "stream",
          "text": [
            "INFO:tensorflow:Recording summary at step 130.\n"
          ],
          "name": "stdout"
        },
        {
          "output_type": "stream",
          "text": [
            " 28%|███████▊                    | 130/468 [1:17:46<3:22:14, 35.90s/b]"
          ],
          "name": "stderr"
        },
        {
          "output_type": "stream",
          "text": [
            "INFO:tensorflow:Recording summary at step 133.\n"
          ],
          "name": "stdout"
        },
        {
          "output_type": "stream",
          "text": [
            " 29%|████████                    | 134/468 [1:20:06<3:19:39, 35.87s/b]"
          ],
          "name": "stderr"
        },
        {
          "output_type": "stream",
          "text": [
            "INFO:tensorflow:Recording summary at step 137.\n"
          ],
          "name": "stdout"
        },
        {
          "output_type": "stream",
          "text": [
            " 29%|████████▏                   | 137/468 [1:21:51<3:17:46, 35.85s/b]"
          ],
          "name": "stderr"
        },
        {
          "output_type": "stream",
          "text": [
            "INFO:tensorflow:Recording summary at step 140.\n"
          ],
          "name": "stdout"
        },
        {
          "output_type": "stream",
          "text": [
            " 30%|████████▍                   | 140/468 [1:23:38<3:15:57, 35.85s/b]"
          ],
          "name": "stderr"
        },
        {
          "output_type": "stream",
          "text": [
            "INFO:tensorflow:Recording summary at step 143.\n"
          ],
          "name": "stdout"
        },
        {
          "output_type": "stream",
          "text": [
            " 31%|████████▌                   | 144/468 [1:25:56<3:13:21, 35.81s/b]"
          ],
          "name": "stderr"
        },
        {
          "output_type": "stream",
          "text": [
            "INFO:tensorflow:Recording summary at step 147.\n"
          ],
          "name": "stdout"
        },
        {
          "output_type": "stream",
          "text": [
            " 31%|████████▊                   | 147/468 [1:27:42<3:11:32, 35.80s/b]"
          ],
          "name": "stderr"
        },
        {
          "output_type": "stream",
          "text": [
            "INFO:tensorflow:Recording summary at step 150.\n"
          ],
          "name": "stdout"
        },
        {
          "output_type": "stream",
          "text": [
            " 32%|████████▉                   | 150/468 [1:29:29<3:09:43, 35.80s/b]"
          ],
          "name": "stderr"
        },
        {
          "output_type": "stream",
          "text": [
            "INFO:tensorflow:Recording summary at step 154.\n"
          ],
          "name": "stdout"
        },
        {
          "output_type": "stream",
          "text": [
            " 33%|█████████▏                  | 153/468 [1:31:47<3:08:58, 36.00s/b]"
          ],
          "name": "stderr"
        },
        {
          "output_type": "stream",
          "text": [
            "INFO:tensorflow:Recording summary at step 157.\n"
          ],
          "name": "stdout"
        },
        {
          "output_type": "stream",
          "text": [
            " 34%|█████████▍                  | 157/468 [1:34:06<3:06:24, 35.96s/b]"
          ],
          "name": "stderr"
        },
        {
          "output_type": "stream",
          "text": [
            "INFO:tensorflow:Recording summary at step 161.\n"
          ],
          "name": "stdout"
        },
        {
          "output_type": "stream",
          "text": [
            " 34%|█████████▌                  | 160/468 [1:35:51<3:04:32, 35.95s/b]"
          ],
          "name": "stderr"
        },
        {
          "output_type": "stream",
          "text": [
            "INFO:tensorflow:Recording summary at step 164.\n"
          ],
          "name": "stdout"
        },
        {
          "output_type": "stream",
          "text": [
            " 35%|█████████▊                  | 163/468 [1:37:38<3:02:41, 35.94s/b]"
          ],
          "name": "stderr"
        },
        {
          "output_type": "stream",
          "text": [
            "INFO:tensorflow:Recording summary at step 167.\n"
          ],
          "name": "stdout"
        },
        {
          "output_type": "stream",
          "text": [
            " 36%|█████████▉                  | 167/468 [1:39:56<3:00:07, 35.90s/b]"
          ],
          "name": "stderr"
        },
        {
          "output_type": "stream",
          "text": [
            "INFO:tensorflow:Recording summary at step 171.\n"
          ],
          "name": "stdout"
        },
        {
          "output_type": "stream",
          "text": [
            " 36%|██████████▏                 | 170/468 [1:41:42<2:58:17, 35.90s/b]"
          ],
          "name": "stderr"
        },
        {
          "output_type": "stream",
          "text": [
            "INFO:tensorflow:Recording summary at step 174.\n"
          ],
          "name": "stdout"
        },
        {
          "output_type": "stream",
          "text": [
            " 37%|██████████▍                 | 174/468 [1:44:01<2:55:46, 35.87s/b]"
          ],
          "name": "stderr"
        },
        {
          "output_type": "stream",
          "text": [
            "INFO:tensorflow:Recording summary at step 178.\n"
          ],
          "name": "stdout"
        },
        {
          "output_type": "stream",
          "text": [
            " 38%|██████████▌                 | 177/468 [1:45:47<2:53:55, 35.86s/b]"
          ],
          "name": "stderr"
        },
        {
          "output_type": "stream",
          "text": [
            "INFO:tensorflow:Recording summary at step 181.\n"
          ],
          "name": "stdout"
        },
        {
          "output_type": "stream",
          "text": [
            " 39%|██████████▊                 | 181/468 [1:48:06<2:51:24, 35.84s/b]"
          ],
          "name": "stderr"
        },
        {
          "output_type": "stream",
          "text": [
            "INFO:tensorflow:Recording summary at step 185.\n"
          ],
          "name": "stdout"
        },
        {
          "output_type": "stream",
          "text": [
            " 39%|███████████                 | 184/468 [1:49:51<2:49:33, 35.82s/b]"
          ],
          "name": "stderr"
        },
        {
          "output_type": "stream",
          "text": [
            "INFO:tensorflow:Recording summary at step 188.\n"
          ],
          "name": "stdout"
        },
        {
          "output_type": "stream",
          "text": [
            " 40%|███████████▏                | 187/468 [1:51:38<2:47:44, 35.82s/b]"
          ],
          "name": "stderr"
        },
        {
          "output_type": "stream",
          "text": [
            "INFO:tensorflow:Recording summary at step 191.\n"
          ],
          "name": "stdout"
        },
        {
          "output_type": "stream",
          "text": [
            " 41%|███████████▍                | 191/468 [1:53:55<2:45:13, 35.79s/b]"
          ],
          "name": "stderr"
        },
        {
          "output_type": "stream",
          "text": [
            "INFO:tensorflow:Recording summary at step 195.\n"
          ],
          "name": "stdout"
        },
        {
          "output_type": "stream",
          "text": [
            " 41%|███████████▌                | 194/468 [1:55:42<2:43:25, 35.79s/b]"
          ],
          "name": "stderr"
        },
        {
          "output_type": "stream",
          "text": [
            "INFO:tensorflow:Recording summary at step 198.\n"
          ],
          "name": "stdout"
        },
        {
          "output_type": "stream",
          "text": [
            " 42%|███████████▊                | 198/468 [1:58:01<2:40:57, 35.77s/b]"
          ],
          "name": "stderr"
        },
        {
          "output_type": "stream",
          "text": [
            "INFO:tensorflow:Recording summary at step 202.\n"
          ],
          "name": "stdout"
        },
        {
          "output_type": "stream",
          "text": [
            " 43%|███████████▉                | 200/468 [1:59:16<2:39:49, 35.78s/b]"
          ],
          "name": "stderr"
        },
        {
          "output_type": "stream",
          "text": [
            "INFO:tensorflow:Recording summary at step 205.\n"
          ],
          "name": "stdout"
        },
        {
          "output_type": "stream",
          "text": [
            " 44%|████████████▏               | 204/468 [2:02:06<2:38:00, 35.91s/b]"
          ],
          "name": "stderr"
        },
        {
          "output_type": "stream",
          "text": [
            "INFO:tensorflow:Recording summary at step 209.\n"
          ],
          "name": "stdout"
        },
        {
          "output_type": "stream",
          "text": [
            " 44%|████████████▍               | 207/468 [2:03:51<2:36:10, 35.90s/b]"
          ],
          "name": "stderr"
        },
        {
          "output_type": "stream",
          "text": [
            "INFO:tensorflow:Recording summary at step 212.\n"
          ],
          "name": "stdout"
        },
        {
          "output_type": "stream",
          "text": [
            " 45%|████████████▌               | 210/468 [2:05:38<2:34:21, 35.90s/b]"
          ],
          "name": "stderr"
        },
        {
          "output_type": "stream",
          "text": [
            "INFO:tensorflow:Recording summary at step 215.\n"
          ],
          "name": "stdout"
        },
        {
          "output_type": "stream",
          "text": [
            " 46%|████████████▊               | 214/468 [2:07:55<2:31:50, 35.87s/b]"
          ],
          "name": "stderr"
        },
        {
          "output_type": "stream",
          "text": [
            "INFO:tensorflow:Recording summary at step 219.\n"
          ],
          "name": "stdout"
        },
        {
          "output_type": "stream",
          "text": [
            " 46%|████████████▉               | 217/468 [2:09:42<2:30:01, 35.86s/b]"
          ],
          "name": "stderr"
        },
        {
          "output_type": "stream",
          "text": [
            "INFO:tensorflow:Recording summary at step 222.\n"
          ],
          "name": "stdout"
        },
        {
          "output_type": "stream",
          "text": [
            " 47%|█████████████▏              | 221/468 [2:12:01<2:27:33, 35.84s/b]"
          ],
          "name": "stderr"
        },
        {
          "output_type": "stream",
          "text": [
            "INFO:tensorflow:Recording summary at step 226.\n"
          ],
          "name": "stdout"
        },
        {
          "output_type": "stream",
          "text": [
            " 48%|█████████████▍              | 224/468 [2:13:47<2:25:43, 35.83s/b]"
          ],
          "name": "stderr"
        },
        {
          "output_type": "stream",
          "text": [
            "INFO:tensorflow:Recording summary at step 229.\n"
          ],
          "name": "stdout"
        },
        {
          "output_type": "stream",
          "text": [
            " 49%|█████████████▋              | 228/468 [2:16:06<2:23:16, 35.82s/b]"
          ],
          "name": "stderr"
        },
        {
          "output_type": "stream",
          "text": [
            "INFO:tensorflow:Recording summary at step 233.\n"
          ],
          "name": "stdout"
        },
        {
          "output_type": "stream",
          "text": [
            " 49%|█████████████▊              | 231/468 [2:17:51<2:21:26, 35.81s/b]"
          ],
          "name": "stderr"
        },
        {
          "output_type": "stream",
          "text": [
            "INFO:tensorflow:Recording summary at step 236.\n"
          ],
          "name": "stdout"
        },
        {
          "output_type": "stream",
          "text": [
            " 50%|██████████████              | 234/468 [2:19:38<2:19:38, 35.81s/b]"
          ],
          "name": "stderr"
        },
        {
          "output_type": "stream",
          "text": [
            "INFO:tensorflow:Recording summary at step 239.\n"
          ],
          "name": "stdout"
        },
        {
          "output_type": "stream",
          "text": [
            " 51%|██████████████▏             | 238/468 [2:21:56<2:17:10, 35.78s/b]"
          ],
          "name": "stderr"
        },
        {
          "output_type": "stream",
          "text": [
            "INFO:tensorflow:Recording summary at step 243.\n"
          ],
          "name": "stdout"
        },
        {
          "output_type": "stream",
          "text": [
            " 51%|██████████████▍             | 241/468 [2:23:43<2:15:22, 35.78s/b]"
          ],
          "name": "stderr"
        },
        {
          "output_type": "stream",
          "text": [
            "INFO:tensorflow:Recording summary at step 246.\n"
          ],
          "name": "stdout"
        },
        {
          "output_type": "stream",
          "text": [
            " 52%|██████████████▋             | 245/468 [2:26:02<2:12:55, 35.77s/b]"
          ],
          "name": "stderr"
        },
        {
          "output_type": "stream",
          "text": [
            "INFO:tensorflow:Recording summary at step 250.\n"
          ],
          "name": "stdout"
        },
        {
          "output_type": "stream",
          "text": [
            " 53%|██████████████▊             | 248/468 [2:27:47<2:11:06, 35.76s/b]"
          ],
          "name": "stderr"
        },
        {
          "output_type": "stream",
          "text": [
            "INFO:tensorflow:Recording summary at step 253.\n"
          ],
          "name": "stdout"
        },
        {
          "output_type": "stream",
          "text": [
            " 53%|██████████████▉             | 250/468 [2:29:03<2:09:58, 35.77s/b]"
          ],
          "name": "stderr"
        },
        {
          "output_type": "stream",
          "text": [
            "INFO:tensorflow:Recording summary at step 256.\n"
          ],
          "name": "stdout"
        },
        {
          "output_type": "stream",
          "text": [
            " 54%|███████████████▏            | 254/468 [2:31:52<2:07:57, 35.88s/b]"
          ],
          "name": "stderr"
        },
        {
          "output_type": "stream",
          "text": [
            "INFO:tensorflow:Recording summary at step 260.\n"
          ],
          "name": "stdout"
        },
        {
          "output_type": "stream",
          "text": [
            " 55%|███████████████▍            | 257/468 [2:33:39<2:06:09, 35.87s/b]"
          ],
          "name": "stderr"
        },
        {
          "output_type": "stream",
          "text": [
            "INFO:tensorflow:Recording summary at step 263.\n"
          ],
          "name": "stdout"
        },
        {
          "output_type": "stream",
          "text": [
            " 56%|███████████████▌            | 261/468 [2:35:57<2:03:41, 35.85s/b]"
          ],
          "name": "stderr"
        },
        {
          "output_type": "stream",
          "text": [
            "INFO:tensorflow:Recording summary at step 267.\n"
          ],
          "name": "stdout"
        },
        {
          "output_type": "stream",
          "text": [
            " 56%|███████████████▊            | 264/468 [2:37:44<2:01:53, 35.85s/b]"
          ],
          "name": "stderr"
        },
        {
          "output_type": "stream",
          "text": [
            "INFO:tensorflow:Recording summary at step 270.\n"
          ],
          "name": "stdout"
        },
        {
          "output_type": "stream",
          "text": [
            " 57%|████████████████            | 268/468 [2:40:04<1:59:27, 35.84s/b]"
          ],
          "name": "stderr"
        },
        {
          "output_type": "stream",
          "text": [
            "INFO:tensorflow:Recording summary at step 274.\n"
          ],
          "name": "stdout"
        },
        {
          "output_type": "stream",
          "text": [
            " 58%|████████████████▏           | 271/468 [2:41:49<1:57:38, 35.83s/b]"
          ],
          "name": "stderr"
        },
        {
          "output_type": "stream",
          "text": [
            "INFO:tensorflow:Recording summary at step 277.\n"
          ],
          "name": "stdout"
        },
        {
          "output_type": "stream",
          "text": [
            " 59%|████████████████▍           | 274/468 [2:43:36<1:55:50, 35.83s/b]"
          ],
          "name": "stderr"
        },
        {
          "output_type": "stream",
          "text": [
            "INFO:tensorflow:Recording summary at step 280.\n"
          ],
          "name": "stdout"
        },
        {
          "output_type": "stream",
          "text": [
            " 59%|████████████████▋           | 278/468 [2:45:54<1:53:23, 35.81s/b]"
          ],
          "name": "stderr"
        },
        {
          "output_type": "stream",
          "text": [
            "INFO:tensorflow:Recording summary at step 284.\n"
          ],
          "name": "stdout"
        },
        {
          "output_type": "stream",
          "text": [
            "\r 60%|████████████████▋           | 279/468 [2:46:39<1:52:53, 35.84s/b]"
          ],
          "name": "stderr"
        }
      ]
    },
    {
      "metadata": {
        "id": "B7UbgA015Sxz",
        "colab_type": "text"
      },
      "cell_type": "markdown",
      "source": [
        "# Pre-trained model\n",
        "So this took me approx 6 hrs to train it on **NVIDIA TitanXp** GPU.\n",
        "\n",
        "You can download the pre-trained model for MNIST dataset here\n",
        "https://goo.gl/DN7SS3\n",
        "\n",
        "\n",
        "\n",
        "\n",
        "\n",
        "Thanks,\n",
        "\n",
        "Rahul Kumar\n",
        "\n",
        "www.hellorahulk.com\n"
      ]
    }
  ]
}